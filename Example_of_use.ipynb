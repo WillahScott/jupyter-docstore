{
 "cells": [
  {
   "cell_type": "code",
   "execution_count": 1,
   "metadata": {},
   "outputs": [],
   "source": [
    "# use ipython load_ext mechanisme here if distributed\n",
    "from docstore import DocumentSaver\n",
    "get_ipython().register_magics(DocumentSaver)"
   ]
  },
  {
   "cell_type": "code",
   "execution_count": 2,
   "metadata": {},
   "outputs": [
    {
     "name": "stdout",
     "output_type": "stream",
     "text": [
      "{}\n"
     ]
    }
   ],
   "source": [
    "%show_saved"
   ]
  },
  {
   "cell_type": "code",
   "execution_count": 3,
   "metadata": {},
   "outputs": [
    {
     "name": "stdout",
     "output_type": "stream",
     "text": [
      "Storing cell contents to document: mydoc.tex\n"
     ]
    }
   ],
   "source": [
    "%%save_to mydoc.tex\n",
    "\\section*{Example}\n",
    "Let $f$ be a continuous function on an open interval \n",
    "$ I \\subseteq \\mathbf{R}.$\n",
    "Fix a point \n",
    "$ a \\in I. $ \\\\\n",
    "For any point \n",
    "$ x \\in I, $\n",
    "we define\n",
    "\\begin{align}\\tag{$\\dagger$}\n",
    "   F(x) = \\int^x_a f(t)dt \n",
    "\\end{align}"
   ]
  },
  {
   "cell_type": "code",
   "execution_count": 4,
   "metadata": {},
   "outputs": [
    {
     "name": "stdout",
     "output_type": "stream",
     "text": [
      "Storing cell contents to document: mydoc.tex\n"
     ]
    }
   ],
   "source": [
    "%%save_to mydoc.tex\n",
    "\\begin{theorem}\n",
    "The function $F$ defined above is differentiable, and\n",
    "\\begin{align*}\n",
    "    \\frac{d}{dx}F(x) = f(x)\n",
    "\\end{align*}\n",
    "for every $x \\in I. $\n",
    "\\end{theorem}"
   ]
  },
  {
   "cell_type": "code",
   "execution_count": 5,
   "metadata": {},
   "outputs": [
    {
     "name": "stdout",
     "output_type": "stream",
     "text": [
      "Storing cell contents to document: sample/mypy.py\n"
     ]
    }
   ],
   "source": [
    "%%save_to sample/mypy.py\n",
    "import pandas as pd\n",
    "\n",
    "print('Now we are saving some python too!')\n",
    "print('And this is in a folder!')"
   ]
  },
  {
   "cell_type": "code",
   "execution_count": 6,
   "metadata": {},
   "outputs": [
    {
     "name": "stdout",
     "output_type": "stream",
     "text": [
      "Storing cell contents to document: latex_from_ipynb.tex\n"
     ]
    }
   ],
   "source": [
    "%%save_to\n",
    "# Markdown document\n",
    "This will get saved to the default document"
   ]
  },
  {
   "cell_type": "code",
   "execution_count": 7,
   "metadata": {},
   "outputs": [
    {
     "name": "stdout",
     "output_type": "stream",
     "text": [
      "Storing cell contents to document: sample/mypy.py\n"
     ]
    }
   ],
   "source": [
    "%%save_to sample/mypy.py\n",
    "print('As you see, this code does not get executed ... cell magic!')"
   ]
  },
  {
   "cell_type": "code",
   "execution_count": 8,
   "metadata": {},
   "outputs": [
    {
     "name": "stdout",
     "output_type": "stream",
     "text": [
      "{'latex_from_ipynb.tex': ['# Markdown document\\n'\n",
      "                          'This will get saved to the default document\\n'],\n",
      " 'mydoc.tex': ['\\\\section*{Example}\\n'\n",
      "               'Let $f$ be a continuous function on an open interval \\n'\n",
      "               '$ I \\\\subseteq \\\\mathbf{R}.$\\n'\n",
      "               'Fix a point \\n'\n",
      "               '$ a \\\\in I. $ \\\\\\\\\\n'\n",
      "               'For any point \\n'\n",
      "               '$ x \\\\in I, $\\n'\n",
      "               'we define\\n'\n",
      "               '\\\\begin{align}\\\\tag{$\\\\dagger$}\\n'\n",
      "               '   F(x) = \\\\int^x_a f(t)dt \\n'\n",
      "               '\\\\end{align}\\n',\n",
      "               '\\\\begin{theorem}\\n'\n",
      "               'The function $F$ defined above is differentiable, and\\n'\n",
      "               '\\\\begin{align*}\\n'\n",
      "               '    \\\\frac{d}{dx}F(x) = f(x)\\n'\n",
      "               '\\\\end{align*}\\n'\n",
      "               'for every $x \\\\in I. $\\n'\n",
      "               '\\\\end{theorem}\\n'],\n",
      " 'sample/mypy.py': ['import pandas as pd\\n'\n",
      "                    '\\n'\n",
      "                    \"print('Now we are saving some python too!')\\n\"\n",
      "                    \"print('And this is in a folder!')\\n\",\n",
      "                    \"print('As you see, this code does not get executed ... \"\n",
      "                    \"cell magic!')\\n\"]}\n"
     ]
    }
   ],
   "source": [
    "%show_saved"
   ]
  },
  {
   "cell_type": "code",
   "execution_count": 10,
   "metadata": {},
   "outputs": [
    {
     "name": "stdout",
     "output_type": "stream",
     "text": [
      "Writing document: latex_from_ipynb.tex\n"
     ]
    }
   ],
   "source": [
    "%dump_doc latex_from_ipynb.tex"
   ]
  },
  {
   "cell_type": "code",
   "execution_count": 11,
   "metadata": {},
   "outputs": [
    {
     "name": "stdout",
     "output_type": "stream",
     "text": [
      "Writing document: mydoc.tex\n",
      "Writing document: sample/mypy.py\n",
      "Writing document: latex_from_ipynb.tex\n"
     ]
    }
   ],
   "source": [
    "%dump_all_docs"
   ]
  },
  {
   "cell_type": "markdown",
   "metadata": {},
   "source": [
    "### Now go an check your folder, we should have these new documents ready!"
   ]
  },
  {
   "cell_type": "code",
   "execution_count": null,
   "metadata": {},
   "outputs": [],
   "source": []
  }
 ],
 "metadata": {
  "kernelspec": {
   "display_name": "Python 3",
   "language": "python",
   "name": "python3"
  },
  "language_info": {
   "codemirror_mode": {
    "name": "ipython",
    "version": 3
   },
   "file_extension": ".py",
   "mimetype": "text/x-python",
   "name": "python",
   "nbconvert_exporter": "python",
   "pygments_lexer": "ipython3",
   "version": "3.7.2"
  }
 },
 "nbformat": 4,
 "nbformat_minor": 2
}
