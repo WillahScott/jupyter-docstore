{
 "cells": [
  {
   "cell_type": "code",
   "execution_count": 1,
   "metadata": {},
   "outputs": [],
   "source": [
    "# use ipython load_ext mechanisme here if distributed\n",
    "from docstore import TexDocSaver\n",
    "get_ipython().register_magics(TexDocSaver)"
   ]
  },
  {
   "cell_type": "code",
   "execution_count": 2,
   "metadata": {},
   "outputs": [
    {
     "name": "stdout",
     "output_type": "stream",
     "text": [
      "{}\n"
     ]
    }
   ],
   "source": [
    "%show_saved"
   ]
  },
  {
   "cell_type": "markdown",
   "metadata": {},
   "source": [
    "First iterate, using the `%%preview_tex` magic to obtain the desired output"
   ]
  },
  {
   "cell_type": "code",
   "execution_count": 3,
   "metadata": {},
   "outputs": [
    {
     "name": "stdout",
     "output_type": "stream",
     "text": [
      "This is just a preview, to store use `%%save_tex {doc_name}`\n",
      "=== LaTeX Preview ===\n"
     ]
    },
    {
     "data": {
      "text/latex": [
       "Let $f$ be a continuous function on an open interval \n",
       "$ I \\subseteq \\mathbf{R}.$\n",
       "Fix a point \n",
       "$ a \\in I. $ \\\\\n",
       "For any point \n",
       "$ x \\in I, $\n",
       "we define\n",
       "\\begin{align}\\tag{$\\dagger$}\n",
       "   F(x) = \\int^x_a f(t)dt \n",
       "\\end{align}\n"
      ],
      "text/plain": [
       "<IPython.core.display.Latex object>"
      ]
     },
     "metadata": {},
     "output_type": "display_data"
    }
   ],
   "source": [
    "%%preview_tex\n",
    "Let $f$ be a continuous function on an open interval \n",
    "$ I \\subseteq \\mathbf{R}.$\n",
    "Fix a point \n",
    "$ a \\in I. $ \\\\\n",
    "For any point \n",
    "$ x \\in I, $\n",
    "we define\n",
    "\\begin{align}\\tag{$\\dagger$}\n",
    "   F(x) = \\int^x_a f(t)dt \n",
    "\\end{align}"
   ]
  },
  {
   "cell_type": "markdown",
   "metadata": {},
   "source": [
    "Once we have the desired tex-code, simply change the magic to `%%save_tex doctosave.tex` (adding the document to save it in)"
   ]
  },
  {
   "cell_type": "code",
   "execution_count": 4,
   "metadata": {},
   "outputs": [
    {
     "name": "stdout",
     "output_type": "stream",
     "text": [
      "Storing cell contents to document: sample/mydoc.tex\n",
      "=== LaTeX Preview ===\n"
     ]
    },
    {
     "data": {
      "text/latex": [
       "Let $f$ be a continuous function on an open interval \n",
       "$ I \\subseteq \\mathbf{R}.$\n",
       "Fix a point \n",
       "$ a \\in I. $ \\\\\n",
       "For any point \n",
       "$ x \\in I, $\n",
       "we define\n",
       "\\begin{align}\\tag{$\\dagger$}\n",
       "   F(x) = \\int^x_a f(t)dt \n",
       "\\end{align}\n"
      ],
      "text/plain": [
       "<IPython.core.display.Latex object>"
      ]
     },
     "metadata": {},
     "output_type": "display_data"
    }
   ],
   "source": [
    "%%save_tex sample/mydoc.tex\n",
    "Let $f$ be a continuous function on an open interval \n",
    "$ I \\subseteq \\mathbf{R}.$\n",
    "Fix a point \n",
    "$ a \\in I. $ \\\\\n",
    "For any point \n",
    "$ x \\in I, $\n",
    "we define\n",
    "\\begin{align}\\tag{$\\dagger$}\n",
    "   F(x) = \\int^x_a f(t)dt \n",
    "\\end{align}"
   ]
  },
  {
   "cell_type": "markdown",
   "metadata": {},
   "source": [
    "We can save more cells to the same doc, as such:"
   ]
  },
  {
   "cell_type": "code",
   "execution_count": 5,
   "metadata": {},
   "outputs": [
    {
     "name": "stdout",
     "output_type": "stream",
     "text": [
      "Storing cell contents to document: sample/mydoc.tex\n",
      "=== LaTeX Preview ===\n"
     ]
    },
    {
     "data": {
      "text/latex": [
       "\\begin{theorem}\n",
       "The function $F$ defined above is differentiable, and\n",
       "\\begin{align*}\n",
       "    \\frac{d}{dx}F(x) = f(x)\n",
       "\\end{align*}\n",
       "for every $x \\in I. $\n",
       "\\end{theorem}\n"
      ],
      "text/plain": [
       "<IPython.core.display.Latex object>"
      ]
     },
     "metadata": {},
     "output_type": "display_data"
    }
   ],
   "source": [
    "%%save_tex sample/mydoc.tex\n",
    "\\begin{theorem}\n",
    "The function $F$ defined above is differentiable, and\n",
    "\\begin{align*}\n",
    "    \\frac{d}{dx}F(x) = f(x)\n",
    "\\end{align*}\n",
    "for every $x \\in I. $\n",
    "\\end{theorem}"
   ]
  },
  {
   "cell_type": "markdown",
   "metadata": {},
   "source": [
    "Or to other documents as well!"
   ]
  },
  {
   "cell_type": "code",
   "execution_count": 6,
   "metadata": {},
   "outputs": [
    {
     "name": "stdout",
     "output_type": "stream",
     "text": [
      "Storing cell contents to document: sample/anotherdoctex.tex\n",
      "=== LaTeX Preview ===\n"
     ]
    },
    {
     "data": {
      "text/latex": [
       "\\begin{align}\n",
       "\\nabla \\times \\vec{\\mathbf{B}} -\\, \\frac1c\\, \\frac{\\partial\\vec{\\mathbf{E}}}{\\partial t} & = \\frac{4\\pi}{c}\\vec{\\mathbf{j}} \\\\\n",
       "\\nabla \\cdot \\vec{\\mathbf{E}} & = 4 \\pi \\rho \\\\\n",
       "\\nabla \\times \\vec{\\mathbf{E}}\\, +\\, \\frac1c\\, \\frac{\\partial\\vec{\\mathbf{B}}}{\\partial t} & = \\vec{\\mathbf{0}} \\\\\n",
       "\\nabla \\cdot \\vec{\\mathbf{B}} & = 0\n",
       "\\end{align}\n"
      ],
      "text/plain": [
       "<IPython.core.display.Latex object>"
      ]
     },
     "metadata": {},
     "output_type": "display_data"
    }
   ],
   "source": [
    "%%save_tex sample/anotherdoctex.tex\n",
    "\\begin{align}\n",
    "\\nabla \\times \\vec{\\mathbf{B}} -\\, \\frac1c\\, \\frac{\\partial\\vec{\\mathbf{E}}}{\\partial t} & = \\frac{4\\pi}{c}\\vec{\\mathbf{j}} \\\\\n",
    "\\nabla \\cdot \\vec{\\mathbf{E}} & = 4 \\pi \\rho \\\\\n",
    "\\nabla \\times \\vec{\\mathbf{E}}\\, +\\, \\frac1c\\, \\frac{\\partial\\vec{\\mathbf{B}}}{\\partial t} & = \\vec{\\mathbf{0}} \\\\\n",
    "\\nabla \\cdot \\vec{\\mathbf{B}} & = 0\n",
    "\\end{align}"
   ]
  },
  {
   "cell_type": "code",
   "execution_count": 7,
   "metadata": {},
   "outputs": [
    {
     "name": "stdout",
     "output_type": "stream",
     "text": [
      "Storing cell contents to document: latex_from_ipynb.tex\n",
      "=== LaTeX Preview ===\n"
     ]
    },
    {
     "data": {
      "text/latex": [
       "\\begin{align}\n",
       "F(k) = \\int_{-\\infty}^{\\infty} f(x) e^{2\\pi i k} dx \\\\\n",
       "\\lim_{h\\to 0}\\frac{f(x+h)-f(x)}{h}  \\\\\n",
       "\\int\\limits_{x\\in C}\\! x\\, dx\n",
       "\\end{align}\n"
      ],
      "text/plain": [
       "<IPython.core.display.Latex object>"
      ]
     },
     "metadata": {},
     "output_type": "display_data"
    }
   ],
   "source": [
    "%%save_tex\n",
    "\\begin{align}\n",
    "F(k) = \\int_{-\\infty}^{\\infty} f(x) e^{2\\pi i k} dx \\\\\n",
    "\\lim_{h\\to 0}\\frac{f(x+h)-f(x)}{h}  \\\\\n",
    "\\int\\limits_{x\\in C}\\! x\\, dx\n",
    "\\end{align}"
   ]
  },
  {
   "cell_type": "code",
   "execution_count": 8,
   "metadata": {},
   "outputs": [
    {
     "name": "stdout",
     "output_type": "stream",
     "text": [
      "{'latex_from_ipynb.tex': ['\\\\begin{align}\\n'\n",
      "                          'F(k) = \\\\int_{-\\\\infty}^{\\\\infty} f(x) e^{2\\\\pi i '\n",
      "                          'k} dx \\\\\\\\\\n'\n",
      "                          '\\\\lim_{h\\\\to 0}\\\\frac{f(x+h)-f(x)}{h}  \\\\\\\\\\n'\n",
      "                          '\\\\int\\\\limits_{x\\\\in C}\\\\! x\\\\, dx\\n'\n",
      "                          '\\\\end{align}\\n'],\n",
      " 'sample/anotherdoctex.tex': ['\\\\begin{align}\\n'\n",
      "                              '\\\\nabla \\\\times \\\\vec{\\\\mathbf{B}} -\\\\, '\n",
      "                              '\\\\frac1c\\\\, '\n",
      "                              '\\\\frac{\\\\partial\\\\vec{\\\\mathbf{E}}}{\\\\partial '\n",
      "                              't} & = \\\\frac{4\\\\pi}{c}\\\\vec{\\\\mathbf{j}} \\\\\\\\\\n'\n",
      "                              '\\\\nabla \\\\cdot \\\\vec{\\\\mathbf{E}} & = 4 \\\\pi '\n",
      "                              '\\\\rho \\\\\\\\\\n'\n",
      "                              '\\\\nabla \\\\times \\\\vec{\\\\mathbf{E}}\\\\, +\\\\, '\n",
      "                              '\\\\frac1c\\\\, '\n",
      "                              '\\\\frac{\\\\partial\\\\vec{\\\\mathbf{B}}}{\\\\partial '\n",
      "                              't} & = \\\\vec{\\\\mathbf{0}} \\\\\\\\\\n'\n",
      "                              '\\\\nabla \\\\cdot \\\\vec{\\\\mathbf{B}} & = 0\\n'\n",
      "                              '\\\\end{align}\\n'],\n",
      " 'sample/mydoc.tex': ['Let $f$ be a continuous function on an open interval \\n'\n",
      "                      '$ I \\\\subseteq \\\\mathbf{R}.$\\n'\n",
      "                      'Fix a point \\n'\n",
      "                      '$ a \\\\in I. $ \\\\\\\\\\n'\n",
      "                      'For any point \\n'\n",
      "                      '$ x \\\\in I, $\\n'\n",
      "                      'we define\\n'\n",
      "                      '\\\\begin{align}\\\\tag{$\\\\dagger$}\\n'\n",
      "                      '   F(x) = \\\\int^x_a f(t)dt \\n'\n",
      "                      '\\\\end{align}\\n',\n",
      "                      '\\\\begin{theorem}\\n'\n",
      "                      'The function $F$ defined above is differentiable, and\\n'\n",
      "                      '\\\\begin{align*}\\n'\n",
      "                      '    \\\\frac{d}{dx}F(x) = f(x)\\n'\n",
      "                      '\\\\end{align*}\\n'\n",
      "                      'for every $x \\\\in I. $\\n'\n",
      "                      '\\\\end{theorem}\\n']}\n"
     ]
    }
   ],
   "source": [
    "%show_saved"
   ]
  },
  {
   "cell_type": "code",
   "execution_count": 10,
   "metadata": {},
   "outputs": [
    {
     "name": "stdout",
     "output_type": "stream",
     "text": [
      "Writing document: latex_from_ipynb.tex\n"
     ]
    }
   ],
   "source": [
    "%dump_tex latex_from_ipynb.tex"
   ]
  },
  {
   "cell_type": "code",
   "execution_count": 11,
   "metadata": {},
   "outputs": [
    {
     "name": "stdout",
     "output_type": "stream",
     "text": [
      "Writing document: sample/mydoc.tex\n",
      "Writing document: sample/anotherdoctex.tex\n",
      "Writing document: latex_from_ipynb.tex\n"
     ]
    }
   ],
   "source": [
    "%dump_all_docs"
   ]
  },
  {
   "cell_type": "markdown",
   "metadata": {},
   "source": [
    "### Now go an check your folder, we should have these new documents ready!"
   ]
  },
  {
   "cell_type": "code",
   "execution_count": null,
   "metadata": {},
   "outputs": [],
   "source": []
  }
 ],
 "metadata": {
  "kernelspec": {
   "display_name": "Python 3",
   "language": "python",
   "name": "python3"
  },
  "language_info": {
   "codemirror_mode": {
    "name": "ipython",
    "version": 3
   },
   "file_extension": ".py",
   "mimetype": "text/x-python",
   "name": "python",
   "nbconvert_exporter": "python",
   "pygments_lexer": "ipython3",
   "version": "3.7.2"
  }
 },
 "nbformat": 4,
 "nbformat_minor": 2
}
